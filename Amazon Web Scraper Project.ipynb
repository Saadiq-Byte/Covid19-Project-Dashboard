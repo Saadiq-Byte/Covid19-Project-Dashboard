{
 "cells": [
  {
   "cell_type": "code",
   "execution_count": 66,
   "id": "e9e3f531",
   "metadata": {},
   "outputs": [],
   "source": [
    "# import library\n",
    "\n",
    "from bs4 import BeautifulSoup\n",
    "import requests\n",
    "import csv\n",
    "import time\n",
    "import datetime\n",
    "\n",
    "import smtplib\n"
   ]
  },
  {
   "cell_type": "code",
   "execution_count": 48,
   "id": "7097cec5",
   "metadata": {},
   "outputs": [],
   "source": [
    "# connect to website\n",
    "\n",
    "URL =\"https://www.amazon.com/Best-Sellers-Books/zgbs/books\"\n",
    "\n",
    "headers = {\"User-Agent\": \"Mozilla/5.0 (Windows NT 10.0; Win64; x64) AppleWebKit/537.36 (KHTML, like Gecko) Chrome/107.0.0.0 Safari/537.36\", \"Accept-Encoding\":\"gzip, deflate\", \"Accept\":\"text/html,application/xhtml+xml,application/xml;q=0.9,*/*;q=0.8\", \"DNT\":\"1\",\"Connection\":\"close\", \"Upgrade-Insecure-Requests\":\"1\"}\n",
    "\n",
    "page = requests.get(URL, headers=headers)\n",
    "\n",
    "soup = BeautifulSoup(page.content, \"html.parser\")\n"
   ]
  },
  {
   "cell_type": "code",
   "execution_count": 64,
   "id": "863565d7",
   "metadata": {},
   "outputs": [
    {
     "name": "stdout",
     "output_type": "stream",
     "text": [
      "1\n",
      "Long Shadows (Memory Man Series Book 7)\n",
      "David Baldacci\n",
      "$14.99\n"
     ]
    }
   ],
   "source": [
    "# Get all books\n",
    "\n",
    "books = soup.find_all(id=\"gridItemRoot\")\n"
   ]
  },
  {
   "cell_type": "code",
   "execution_count": 69,
   "id": "48b3d320",
   "metadata": {},
   "outputs": [],
   "source": [
    "# Create our CSV file\n",
    "\n",
    "csv_headers = ['Rank', 'Title', 'Author', 'Price']\n",
    "with open('amazon_books2.csv', 'w', encoding='utf-8', newline='') as f:\n",
    "    writer = csv.writer(f)\n",
    "    writer.writerow(csv_headers)\n",
    "    "
   ]
  },
  {
   "cell_type": "code",
   "execution_count": 71,
   "id": "daf156ed",
   "metadata": {},
   "outputs": [],
   "source": [
    "# generates our contents into the csv file\n",
    "\n",
    "for book in books:\n",
    "\n",
    "    rank = book.find('span', class_='zg-bdg-text').text[1:]\n",
    "\n",
    "    children = book.find('div', class_='zg-grid-general-faceout').div\n",
    "\n",
    "    title = children.contents[1].text\n",
    "    author = children.contents[2].text\n",
    "    price = children.contents[-1].text\n",
    "   \n",
    "    with open('amazon_books2.csv', 'a', encoding='utf-8', newline='') as f:\n",
    "        writer = csv.writer(f)\n",
    "        writer.writerow([rank, title, author, price])"
   ]
  },
  {
   "cell_type": "code",
   "execution_count": null,
   "id": "05f51728",
   "metadata": {},
   "outputs": [],
   "source": []
  }
 ],
 "metadata": {
  "kernelspec": {
   "display_name": "Python 3 (ipykernel)",
   "language": "python",
   "name": "python3"
  },
  "language_info": {
   "codemirror_mode": {
    "name": "ipython",
    "version": 3
   },
   "file_extension": ".py",
   "mimetype": "text/x-python",
   "name": "python",
   "nbconvert_exporter": "python",
   "pygments_lexer": "ipython3",
   "version": "3.9.12"
  }
 },
 "nbformat": 4,
 "nbformat_minor": 5
}
